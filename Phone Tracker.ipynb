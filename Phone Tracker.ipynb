{
 "cells": [
  {
   "cell_type": "code",
   "execution_count": 1,
   "id": "cd12a955",
   "metadata": {},
   "outputs": [
    {
     "name": "stdout",
     "output_type": "stream",
     "text": [
      "Collecting geopy\n",
      "  Downloading geopy-2.4.1-py3-none-any.whl (125 kB)\n",
      "\u001b[K     |████████████████████████████████| 125 kB 1.5 MB/s eta 0:00:01\n",
      "\u001b[?25hRequirement already satisfied: phonenumbers in ./opt/anaconda3/lib/python3.9/site-packages (8.13.31)\n",
      "Collecting geographiclib<3,>=1.52\n",
      "  Downloading geographiclib-2.0-py3-none-any.whl (40 kB)\n",
      "\u001b[K     |████████████████████████████████| 40 kB 6.0 MB/s  eta 0:00:01\n",
      "\u001b[?25hInstalling collected packages: geographiclib, geopy\n",
      "Successfully installed geographiclib-2.0 geopy-2.4.1\n",
      "Note: you may need to restart the kernel to use updated packages.\n"
     ]
    }
   ],
   "source": [
    "pip install geopy phonenumbers\n"
   ]
  },
  {
   "cell_type": "code",
   "execution_count": 1,
   "id": "993a9adb",
   "metadata": {},
   "outputs": [
    {
     "name": "stdout",
     "output_type": "stream",
     "text": [
      "Enter the phone number to track: +918219408330\n",
      "The phone is likely in: India\n"
     ]
    }
   ],
   "source": [
    "import phonenumbers\n",
    "from phonenumbers import geocoder\n",
    "from geopy.geocoders import Nominatim\n",
    "\n",
    "def track_phone_number(phone_number):\n",
    "    try:\n",
    "        phone_number_parsed = phonenumbers.parse(phone_number)\n",
    "        if not phonenumbers.is_valid_number(phone_number_parsed):\n",
    "            return \"Invalid phone number\"\n",
    "\n",
    "        geolocator = Nominatim(user_agent=\"phone_tracker\")\n",
    "        location = geolocator.geocode(geocoder.description_for_number(phone_number_parsed, \"en\"))\n",
    "\n",
    "        if location:\n",
    "            return f\"The phone is likely in: {location.address}\"\n",
    "        else:\n",
    "            return \"Location not found\"\n",
    "\n",
    "    except Exception as e:\n",
    "        return f\"Error: {str(e)}\"\n",
    "\n",
    "if __name__ == \"__main__\":\n",
    "    phone_number = input(\"Enter the phone number to track: \")\n",
    "    print(track_phone_number(phone_number))\n"
   ]
  },
  {
   "cell_type": "code",
   "execution_count": null,
   "id": "df506d55",
   "metadata": {},
   "outputs": [],
   "source": []
  },
  {
   "cell_type": "code",
   "execution_count": null,
   "id": "a5fbff24",
   "metadata": {},
   "outputs": [],
   "source": []
  }
 ],
 "metadata": {
  "kernelspec": {
   "display_name": "Python 3 (ipykernel)",
   "language": "python",
   "name": "python3"
  },
  "language_info": {
   "codemirror_mode": {
    "name": "ipython",
    "version": 3
   },
   "file_extension": ".py",
   "mimetype": "text/x-python",
   "name": "python",
   "nbconvert_exporter": "python",
   "pygments_lexer": "ipython3",
   "version": "3.9.12"
  }
 },
 "nbformat": 4,
 "nbformat_minor": 5
}
